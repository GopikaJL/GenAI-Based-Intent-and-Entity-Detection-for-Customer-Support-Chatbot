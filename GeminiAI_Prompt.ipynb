{
  "nbformat": 4,
  "nbformat_minor": 0,
  "metadata": {
    "colab": {
      "provenance": [],
      "gpuType": "T4",
      "toc_visible": true
    },
    "kernelspec": {
      "name": "python3",
      "display_name": "Python 3"
    },
    "language_info": {
      "name": "python"
    },
    "accelerator": "GPU",
    "widgets": {
      "application/vnd.jupyter.widget-state+json": {
        "a4b99c30ecdb49c79dbb445f986c72fc": {
          "model_module": "@jupyter-widgets/controls",
          "model_name": "HBoxModel",
          "model_module_version": "1.5.0",
          "state": {
            "_dom_classes": [],
            "_model_module": "@jupyter-widgets/controls",
            "_model_module_version": "1.5.0",
            "_model_name": "HBoxModel",
            "_view_count": null,
            "_view_module": "@jupyter-widgets/controls",
            "_view_module_version": "1.5.0",
            "_view_name": "HBoxView",
            "box_style": "",
            "children": [
              "IPY_MODEL_4bb403dadff6431c94302c1740d5f558",
              "IPY_MODEL_155b04551562429b8d142adbb0929579",
              "IPY_MODEL_9586ad3a66ae4460aa9263b71ecf3d72"
            ],
            "layout": "IPY_MODEL_0f6da8350e4f498dbb14d95764c3825a"
          }
        },
        "4bb403dadff6431c94302c1740d5f558": {
          "model_module": "@jupyter-widgets/controls",
          "model_name": "HTMLModel",
          "model_module_version": "1.5.0",
          "state": {
            "_dom_classes": [],
            "_model_module": "@jupyter-widgets/controls",
            "_model_module_version": "1.5.0",
            "_model_name": "HTMLModel",
            "_view_count": null,
            "_view_module": "@jupyter-widgets/controls",
            "_view_module_version": "1.5.0",
            "_view_name": "HTMLView",
            "description": "",
            "description_tooltip": null,
            "layout": "IPY_MODEL_f1a301c036ce4c64b6a0b12fc97f2e64",
            "placeholder": "​",
            "style": "IPY_MODEL_e1a6381d34b8470c8d46e52b8c174861",
            "value": "100%"
          }
        },
        "155b04551562429b8d142adbb0929579": {
          "model_module": "@jupyter-widgets/controls",
          "model_name": "FloatProgressModel",
          "model_module_version": "1.5.0",
          "state": {
            "_dom_classes": [],
            "_model_module": "@jupyter-widgets/controls",
            "_model_module_version": "1.5.0",
            "_model_name": "FloatProgressModel",
            "_view_count": null,
            "_view_module": "@jupyter-widgets/controls",
            "_view_module_version": "1.5.0",
            "_view_name": "ProgressView",
            "bar_style": "",
            "description": "",
            "description_tooltip": null,
            "layout": "IPY_MODEL_4f08125c130d441db37b650a79619beb",
            "max": 640,
            "min": 0,
            "orientation": "horizontal",
            "style": "IPY_MODEL_c431d9abdc074f58b18f592376d85dac",
            "value": 640
          }
        },
        "9586ad3a66ae4460aa9263b71ecf3d72": {
          "model_module": "@jupyter-widgets/controls",
          "model_name": "HTMLModel",
          "model_module_version": "1.5.0",
          "state": {
            "_dom_classes": [],
            "_model_module": "@jupyter-widgets/controls",
            "_model_module_version": "1.5.0",
            "_model_name": "HTMLModel",
            "_view_count": null,
            "_view_module": "@jupyter-widgets/controls",
            "_view_module_version": "1.5.0",
            "_view_name": "HTMLView",
            "description": "",
            "description_tooltip": null,
            "layout": "IPY_MODEL_10111f603e0a4fe0a2f42a0d6a0c3f50",
            "placeholder": "​",
            "style": "IPY_MODEL_e69ddd9691aa4efaadff0582655b79ca",
            "value": " 640/640 [24:30&lt;00:00,  2.29s/it]"
          }
        },
        "0f6da8350e4f498dbb14d95764c3825a": {
          "model_module": "@jupyter-widgets/base",
          "model_name": "LayoutModel",
          "model_module_version": "1.2.0",
          "state": {
            "_model_module": "@jupyter-widgets/base",
            "_model_module_version": "1.2.0",
            "_model_name": "LayoutModel",
            "_view_count": null,
            "_view_module": "@jupyter-widgets/base",
            "_view_module_version": "1.2.0",
            "_view_name": "LayoutView",
            "align_content": null,
            "align_items": null,
            "align_self": null,
            "border": null,
            "bottom": null,
            "display": null,
            "flex": null,
            "flex_flow": null,
            "grid_area": null,
            "grid_auto_columns": null,
            "grid_auto_flow": null,
            "grid_auto_rows": null,
            "grid_column": null,
            "grid_gap": null,
            "grid_row": null,
            "grid_template_areas": null,
            "grid_template_columns": null,
            "grid_template_rows": null,
            "height": null,
            "justify_content": null,
            "justify_items": null,
            "left": null,
            "margin": null,
            "max_height": null,
            "max_width": null,
            "min_height": null,
            "min_width": null,
            "object_fit": null,
            "object_position": null,
            "order": null,
            "overflow": null,
            "overflow_x": null,
            "overflow_y": null,
            "padding": null,
            "right": null,
            "top": null,
            "visibility": null,
            "width": null
          }
        },
        "f1a301c036ce4c64b6a0b12fc97f2e64": {
          "model_module": "@jupyter-widgets/base",
          "model_name": "LayoutModel",
          "model_module_version": "1.2.0",
          "state": {
            "_model_module": "@jupyter-widgets/base",
            "_model_module_version": "1.2.0",
            "_model_name": "LayoutModel",
            "_view_count": null,
            "_view_module": "@jupyter-widgets/base",
            "_view_module_version": "1.2.0",
            "_view_name": "LayoutView",
            "align_content": null,
            "align_items": null,
            "align_self": null,
            "border": null,
            "bottom": null,
            "display": null,
            "flex": null,
            "flex_flow": null,
            "grid_area": null,
            "grid_auto_columns": null,
            "grid_auto_flow": null,
            "grid_auto_rows": null,
            "grid_column": null,
            "grid_gap": null,
            "grid_row": null,
            "grid_template_areas": null,
            "grid_template_columns": null,
            "grid_template_rows": null,
            "height": null,
            "justify_content": null,
            "justify_items": null,
            "left": null,
            "margin": null,
            "max_height": null,
            "max_width": null,
            "min_height": null,
            "min_width": null,
            "object_fit": null,
            "object_position": null,
            "order": null,
            "overflow": null,
            "overflow_x": null,
            "overflow_y": null,
            "padding": null,
            "right": null,
            "top": null,
            "visibility": null,
            "width": null
          }
        },
        "e1a6381d34b8470c8d46e52b8c174861": {
          "model_module": "@jupyter-widgets/controls",
          "model_name": "DescriptionStyleModel",
          "model_module_version": "1.5.0",
          "state": {
            "_model_module": "@jupyter-widgets/controls",
            "_model_module_version": "1.5.0",
            "_model_name": "DescriptionStyleModel",
            "_view_count": null,
            "_view_module": "@jupyter-widgets/base",
            "_view_module_version": "1.2.0",
            "_view_name": "StyleView",
            "description_width": ""
          }
        },
        "4f08125c130d441db37b650a79619beb": {
          "model_module": "@jupyter-widgets/base",
          "model_name": "LayoutModel",
          "model_module_version": "1.2.0",
          "state": {
            "_model_module": "@jupyter-widgets/base",
            "_model_module_version": "1.2.0",
            "_model_name": "LayoutModel",
            "_view_count": null,
            "_view_module": "@jupyter-widgets/base",
            "_view_module_version": "1.2.0",
            "_view_name": "LayoutView",
            "align_content": null,
            "align_items": null,
            "align_self": null,
            "border": null,
            "bottom": null,
            "display": null,
            "flex": null,
            "flex_flow": null,
            "grid_area": null,
            "grid_auto_columns": null,
            "grid_auto_flow": null,
            "grid_auto_rows": null,
            "grid_column": null,
            "grid_gap": null,
            "grid_row": null,
            "grid_template_areas": null,
            "grid_template_columns": null,
            "grid_template_rows": null,
            "height": null,
            "justify_content": null,
            "justify_items": null,
            "left": null,
            "margin": null,
            "max_height": null,
            "max_width": null,
            "min_height": null,
            "min_width": null,
            "object_fit": null,
            "object_position": null,
            "order": null,
            "overflow": null,
            "overflow_x": null,
            "overflow_y": null,
            "padding": null,
            "right": null,
            "top": null,
            "visibility": null,
            "width": null
          }
        },
        "c431d9abdc074f58b18f592376d85dac": {
          "model_module": "@jupyter-widgets/controls",
          "model_name": "ProgressStyleModel",
          "model_module_version": "1.5.0",
          "state": {
            "_model_module": "@jupyter-widgets/controls",
            "_model_module_version": "1.5.0",
            "_model_name": "ProgressStyleModel",
            "_view_count": null,
            "_view_module": "@jupyter-widgets/base",
            "_view_module_version": "1.2.0",
            "_view_name": "StyleView",
            "bar_color": null,
            "description_width": ""
          }
        },
        "10111f603e0a4fe0a2f42a0d6a0c3f50": {
          "model_module": "@jupyter-widgets/base",
          "model_name": "LayoutModel",
          "model_module_version": "1.2.0",
          "state": {
            "_model_module": "@jupyter-widgets/base",
            "_model_module_version": "1.2.0",
            "_model_name": "LayoutModel",
            "_view_count": null,
            "_view_module": "@jupyter-widgets/base",
            "_view_module_version": "1.2.0",
            "_view_name": "LayoutView",
            "align_content": null,
            "align_items": null,
            "align_self": null,
            "border": null,
            "bottom": null,
            "display": null,
            "flex": null,
            "flex_flow": null,
            "grid_area": null,
            "grid_auto_columns": null,
            "grid_auto_flow": null,
            "grid_auto_rows": null,
            "grid_column": null,
            "grid_gap": null,
            "grid_row": null,
            "grid_template_areas": null,
            "grid_template_columns": null,
            "grid_template_rows": null,
            "height": null,
            "justify_content": null,
            "justify_items": null,
            "left": null,
            "margin": null,
            "max_height": null,
            "max_width": null,
            "min_height": null,
            "min_width": null,
            "object_fit": null,
            "object_position": null,
            "order": null,
            "overflow": null,
            "overflow_x": null,
            "overflow_y": null,
            "padding": null,
            "right": null,
            "top": null,
            "visibility": null,
            "width": null
          }
        },
        "e69ddd9691aa4efaadff0582655b79ca": {
          "model_module": "@jupyter-widgets/controls",
          "model_name": "DescriptionStyleModel",
          "model_module_version": "1.5.0",
          "state": {
            "_model_module": "@jupyter-widgets/controls",
            "_model_module_version": "1.5.0",
            "_model_name": "DescriptionStyleModel",
            "_view_count": null,
            "_view_module": "@jupyter-widgets/base",
            "_view_module_version": "1.2.0",
            "_view_name": "StyleView",
            "description_width": ""
          }
        }
      }
    }
  },
  "cells": [
    {
      "cell_type": "code",
      "execution_count": null,
      "metadata": {
        "id": "ztF_SaUdStck"
      },
      "outputs": [],
      "source": [
        "!pip install -q google-generativeai"
      ]
    },
    {
      "cell_type": "code",
      "source": [
        "!pip install google-cloud-storage"
      ],
      "metadata": {
        "id": "cQov4vgEXnm4",
        "colab": {
          "base_uri": "https://localhost:8080/"
        },
        "outputId": "de3b502d-e011-436c-9293-8079e2029619"
      },
      "execution_count": null,
      "outputs": [
        {
          "output_type": "stream",
          "name": "stdout",
          "text": [
            "Requirement already satisfied: google-cloud-storage in /usr/local/lib/python3.10/dist-packages (2.8.0)\n",
            "Requirement already satisfied: google-auth<3.0dev,>=1.25.0 in /usr/local/lib/python3.10/dist-packages (from google-cloud-storage) (2.27.0)\n",
            "Requirement already satisfied: google-api-core!=2.0.*,!=2.1.*,!=2.2.*,!=2.3.0,<3.0.0dev,>=1.31.5 in /usr/local/lib/python3.10/dist-packages (from google-cloud-storage) (2.19.2)\n",
            "Requirement already satisfied: google-cloud-core<3.0dev,>=2.3.0 in /usr/local/lib/python3.10/dist-packages (from google-cloud-storage) (2.4.1)\n",
            "Requirement already satisfied: google-resumable-media>=2.3.2 in /usr/local/lib/python3.10/dist-packages (from google-cloud-storage) (2.7.2)\n",
            "Requirement already satisfied: requests<3.0.0dev,>=2.18.0 in /usr/local/lib/python3.10/dist-packages (from google-cloud-storage) (2.32.3)\n",
            "Requirement already satisfied: googleapis-common-protos<2.0.dev0,>=1.56.2 in /usr/local/lib/python3.10/dist-packages (from google-api-core!=2.0.*,!=2.1.*,!=2.2.*,!=2.3.0,<3.0.0dev,>=1.31.5->google-cloud-storage) (1.66.0)\n",
            "Requirement already satisfied: protobuf!=3.20.0,!=3.20.1,!=4.21.0,!=4.21.1,!=4.21.2,!=4.21.3,!=4.21.4,!=4.21.5,<6.0.0.dev0,>=3.19.5 in /usr/local/lib/python3.10/dist-packages (from google-api-core!=2.0.*,!=2.1.*,!=2.2.*,!=2.3.0,<3.0.0dev,>=1.31.5->google-cloud-storage) (4.25.5)\n",
            "Requirement already satisfied: proto-plus<2.0.0dev,>=1.22.3 in /usr/local/lib/python3.10/dist-packages (from google-api-core!=2.0.*,!=2.1.*,!=2.2.*,!=2.3.0,<3.0.0dev,>=1.31.5->google-cloud-storage) (1.25.0)\n",
            "Requirement already satisfied: cachetools<6.0,>=2.0.0 in /usr/local/lib/python3.10/dist-packages (from google-auth<3.0dev,>=1.25.0->google-cloud-storage) (5.5.0)\n",
            "Requirement already satisfied: pyasn1-modules>=0.2.1 in /usr/local/lib/python3.10/dist-packages (from google-auth<3.0dev,>=1.25.0->google-cloud-storage) (0.4.1)\n",
            "Requirement already satisfied: rsa<5,>=3.1.4 in /usr/local/lib/python3.10/dist-packages (from google-auth<3.0dev,>=1.25.0->google-cloud-storage) (4.9)\n",
            "Requirement already satisfied: google-crc32c<2.0dev,>=1.0 in /usr/local/lib/python3.10/dist-packages (from google-resumable-media>=2.3.2->google-cloud-storage) (1.6.0)\n",
            "Requirement already satisfied: charset-normalizer<4,>=2 in /usr/local/lib/python3.10/dist-packages (from requests<3.0.0dev,>=2.18.0->google-cloud-storage) (3.4.0)\n",
            "Requirement already satisfied: idna<4,>=2.5 in /usr/local/lib/python3.10/dist-packages (from requests<3.0.0dev,>=2.18.0->google-cloud-storage) (3.10)\n",
            "Requirement already satisfied: urllib3<3,>=1.21.1 in /usr/local/lib/python3.10/dist-packages (from requests<3.0.0dev,>=2.18.0->google-cloud-storage) (2.2.3)\n",
            "Requirement already satisfied: certifi>=2017.4.17 in /usr/local/lib/python3.10/dist-packages (from requests<3.0.0dev,>=2.18.0->google-cloud-storage) (2024.8.30)\n",
            "Requirement already satisfied: pyasn1<0.7.0,>=0.4.6 in /usr/local/lib/python3.10/dist-packages (from pyasn1-modules>=0.2.1->google-auth<3.0dev,>=1.25.0->google-cloud-storage) (0.6.1)\n"
          ]
        }
      ]
    },
    {
      "cell_type": "code",
      "source": [
        "from google.cloud import storage\n",
        "import io\n",
        "from google.colab import userdata\n",
        "from google.colab import auth\n",
        "import pandas as pd\n",
        "import google.generativeai as genai\n",
        "\n",
        "# Initialize the Google Cloud Storage client\n",
        "client = storage.Client()\n",
        "\n",
        "# Set the name of your bucket and file\n",
        "bucket_name = 'cip_dataset_bucket'\n",
        "file_name = 'Intent_detection_Data.xlsx'\n",
        "\n",
        "# Configure the API key for Google Generative AI\n",
        "genai.configure(api_key=userdata.get('GOOGLE_API_KEY'))\n",
        "auth.authenticate_user()\n",
        "\n",
        "try:\n",
        "  # Get the bucket and blob (file)\n",
        "  bucket = client.get_bucket(bucket_name)\n",
        "  blob = bucket.blob(file_name)\n",
        "  # Read the file content as a byte stream\n",
        "  file_content = blob.download_as_bytes()\n",
        "  df = pd.read_excel(io.BytesIO(file_content))\n",
        "except FileNotFoundError:\n",
        "    print(\"Error: Intent_detection_Data.xlsx not found.\")\n",
        "    exit()"
      ],
      "metadata": {
        "id": "kEJRNBdLYDbn"
      },
      "execution_count": null,
      "outputs": []
    },
    {
      "cell_type": "markdown",
      "source": [
        "Creating Prompts from Data set  "
      ],
      "metadata": {
        "id": "LOQOrcXufzuV"
      }
    },
    {
      "cell_type": "code",
      "source": [
        "from sklearn.model_selection import train_test_split\n",
        "import time\n",
        "from sklearn.metrics import accuracy_score, precision_recall_fscore_support\n",
        "\n",
        "# Convert REQUEST to lowercase\n",
        "df['REQUEST'] = df['REQUEST'].astype(str).str.lower()\n",
        "\n",
        "# Prepare prompts and corresponding intents\n",
        "prompts = []\n",
        "for index, row in df.iterrows():\n",
        "    prompts.append({\"text_input\": row['REQUEST'], \"output\": row['INTENT']})\n",
        "\n",
        "# Split data into training and testing sets (80% train, 20% test)\n",
        "train_prompts, test_prompts = train_test_split(prompts, test_size=0.2, random_state=42)\n",
        "print(f\"Total prompts: {len(prompts)}\")\n",
        "print(f\"Training prompts: {len(train_prompts)}\")\n",
        "print(f\"Testing prompts: {len(test_prompts)}\")"
      ],
      "metadata": {
        "id": "qWs-QXC8RcaA",
        "colab": {
          "base_uri": "https://localhost:8080/"
        },
        "outputId": "e0cbf0f6-62c6-4b3f-d079-555234657b17"
      },
      "execution_count": null,
      "outputs": [
        {
          "output_type": "stream",
          "name": "stdout",
          "text": [
            "Total prompts: 160\n",
            "Training prompts: 128\n",
            "Testing prompts: 32\n"
          ]
        }
      ]
    },
    {
      "cell_type": "markdown",
      "source": [
        "Training and tuning the Model"
      ],
      "metadata": {
        "id": "OhzYUbFGfqTA"
      }
    },
    {
      "cell_type": "code",
      "source": [
        "base_model = \"models/gemini-1.5-flash-001-tuning\"\n",
        "name = \"GeminiPredictionModel\"\n",
        "\n",
        "operation = genai.create_tuned_model(\n",
        "    display_name=name,\n",
        "    source_model=base_model,\n",
        "    epoch_count=20,\n",
        "    batch_size=4,\n",
        "    learning_rate=0.0001,\n",
        "    training_data=train_prompts,\n",
        ")\n",
        "\n",
        "# Wait for the operation to finish\n",
        "for status in operation.wait_bar():\n",
        "    time.sleep(10)\n",
        "\n",
        "# Get the trained model result\n",
        "result = operation.result()\n",
        "print(\"Model trained successfully: \", result)"
      ],
      "metadata": {
        "id": "CLUzkeE2T9zQ",
        "colab": {
          "base_uri": "https://localhost:8080/",
          "height": 390,
          "referenced_widgets": [
            "a4b99c30ecdb49c79dbb445f986c72fc",
            "4bb403dadff6431c94302c1740d5f558",
            "155b04551562429b8d142adbb0929579",
            "9586ad3a66ae4460aa9263b71ecf3d72",
            "0f6da8350e4f498dbb14d95764c3825a",
            "f1a301c036ce4c64b6a0b12fc97f2e64",
            "e1a6381d34b8470c8d46e52b8c174861",
            "4f08125c130d441db37b650a79619beb",
            "c431d9abdc074f58b18f592376d85dac",
            "10111f603e0a4fe0a2f42a0d6a0c3f50",
            "e69ddd9691aa4efaadff0582655b79ca"
          ]
        },
        "outputId": "188d34c7-9aba-401b-ef81-cd11b5425387"
      },
      "execution_count": null,
      "outputs": [
        {
          "output_type": "display_data",
          "data": {
            "text/plain": [
              "  0%|          | 0/640 [00:00<?, ?it/s]"
            ],
            "application/vnd.jupyter.widget-view+json": {
              "version_major": 2,
              "version_minor": 0,
              "model_id": "a4b99c30ecdb49c79dbb445f986c72fc"
            }
          },
          "metadata": {}
        },
        {
          "output_type": "stream",
          "name": "stdout",
          "text": [
            "Model trained successfully:  TunedModel(name='tunedModels/geminipredictionmodel-hzt5pchhcwk4',\n",
            "           source_model='models/gemini-1.5-flash-001-tuning',\n",
            "           base_model='models/gemini-1.5-flash-001-tuning',\n",
            "           display_name='GeminiPredictionModel',\n",
            "           description='',\n",
            "           temperature=1.0,\n",
            "           top_p=0.95,\n",
            "           top_k=64,\n",
            "           state=<State.ACTIVE: 2>,\n",
            "           create_time=datetime.datetime(2024, 12, 4, 23, 17, 54, 688047, tzinfo=datetime.timezone.utc),\n",
            "           update_time=datetime.datetime(2024, 12, 4, 23, 42, 24, 879596, tzinfo=datetime.timezone.utc),\n",
            "           tuning_task=TuningTask(start_time=datetime.datetime(2024, 12, 4, 23, 17, 55, 536339, tzinfo=datetime.timezone.utc),\n",
            "                                  complete_time=datetime.datetime(2024, 12, 4, 23, 42, 24, 879596, tzinfo=datetime.timezone.utc),\n",
            "                                  snapshots=[...],\n",
            "                                  hyperparameters=Hyperparameters(epoch_count=20,\n",
            "                                                                  batch_size=4,\n",
            "                                                                  learning_rate=0.001)),\n",
            "           reader_project_numbers=None)\n"
          ]
        }
      ]
    },
    {
      "cell_type": "markdown",
      "source": [
        "Calculating the Metrics"
      ],
      "metadata": {
        "id": "083SkFZfgC0T"
      }
    },
    {
      "cell_type": "code",
      "source": [
        "import csv\n",
        "import time\n",
        "from sklearn.metrics import accuracy_score, precision_recall_fscore_support\n",
        "\n",
        "# Function to calculate accuracy, precision, recall, F1 score\n",
        "def calculate_metrics(true_labels, predicted_labels):\n",
        "    accuracy = accuracy_score(true_labels, predicted_labels)\n",
        "    precision, recall, f1, _ = precision_recall_fscore_support(true_labels, predicted_labels, average='weighted')\n",
        "    return accuracy, precision, recall, f1\n",
        "\n",
        "# Define a zero-shot prompt\n",
        "def zero_shot_predict(request_text, intent_categories):\n",
        "    try:\n",
        "        prompt = (\n",
        "            f\"The following text is a customer query. \"\n",
        "            f\"Please classify it into one of the following intents: {', '.join(intent_categories)}.\\n\\n\"\n",
        "            f\"Query: \\\"{request_text}\\\"\\n\"\n",
        "            f\"Intent (please return only the intent without extra symbols):\"\n",
        "        )\n",
        "        zmodel = genai.GenerativeModel(\"gemini-1.5-flash\")\n",
        "        response = zmodel.generate_content(prompt)  # Get the prediction response from the model\n",
        "        return response.text.strip()\n",
        "    except Exception as e:\n",
        "        print(f\"Error during zero-shot prediction: {e}\")\n",
        "        return \"Error\"\n",
        "\n",
        "# Prepare CSV file to store results\n",
        "def save_to_csv(data, filename=\"predictions.csv\"):\n",
        "    with open(filename, mode='a', newline='', encoding='utf-8') as file:\n",
        "        writer = csv.writer(file)\n",
        "        if file.tell() == 0:  # If file is empty, write header\n",
        "            writer.writerow([\"Input\", \"Actual Intent\", \"Predicted Intent\", \"Model Type\"])\n",
        "        writer.writerows(data)\n",
        "\n",
        "# Predefined intent categories\n",
        "intent_categories = [\"CatalogSelection\", \"OrderStatus\", \"ProductReplacement\", \"PriceAndAvailability\"]\n",
        "\n",
        "# Initialize lists to store true and predicted labels for metric calculation\n",
        "true_labels = []\n",
        "predicted_labels_zero_shot = []\n",
        "predicted_labels_fine_tuned = []\n",
        "\n",
        "# List to store CSV data for logging\n",
        "csv_data_zero_shot = []\n",
        "csv_data_fine_tuned = []\n",
        "\n",
        "# (Zero-shot) on the test set\n",
        "for prompt in test_prompts:\n",
        "    input_text = prompt['text_input']\n",
        "    true_label = prompt['output']\n",
        "\n",
        "    # Zero-shot Prediction\n",
        "    predicted_intent_zero_shot = zero_shot_predict(input_text, intent_categories)\n",
        "\n",
        "    # Fine-tuned model prediction\n",
        "    try:\n",
        "        # Replace this line with actual fine-tuned model loading and inference\n",
        "        model = genai.GenerativeModel(model_name=result.name)  # Load your fine-tuned model\n",
        "        response = model.generate_content(input_text)\n",
        "        predicted_intent_fine_tuned = response.text.strip()\n",
        "    except Exception as e:\n",
        "        print(f\"Error during fine-tuned prediction: {e}\")\n",
        "        predicted_intent_fine_tuned = \"Error\"\n",
        "\n",
        "    # Collect the true and predicted labels\n",
        "    true_labels.append(true_label)\n",
        "    predicted_labels_zero_shot.append(predicted_intent_zero_shot)\n",
        "    predicted_labels_fine_tuned.append(predicted_intent_fine_tuned)\n",
        "\n",
        "    # Store data for CSV logging\n",
        "    csv_data_zero_shot.append([input_text, true_label, predicted_intent_zero_shot, \"Zero-Shot\"])\n",
        "    csv_data_fine_tuned.append([input_text, true_label, predicted_intent_fine_tuned, \"Fine-Tuned\"])\n",
        "\n",
        "    # Print results for zero-shot and fine-tuned predictions\n",
        "    print(f\"Input: {input_text}\")\n",
        "    print(f\"Actual Intent: {true_label}\")\n",
        "    print(f\"Predicted Intent (Zero-shot): {predicted_intent_zero_shot}\")\n",
        "    print(f\"Predicted Intent (Fine-tuned): {predicted_intent_fine_tuned}\")\n",
        "    print(\"-\" * 50)\n",
        "\n",
        "# Save results to CSV for Zero-shot predictions\n",
        "save_to_csv(csv_data_zero_shot, filename=\"zero_shot_predictions.csv\")\n",
        "\n",
        "# Save results to CSV for Fine-tuned predictions\n",
        "save_to_csv(csv_data_fine_tuned, filename=\"fine_tuned_predictions.csv\")\n",
        "\n",
        "# Calculate and print metrics for Zero-shot\n",
        "accuracy_zero_shot, precision_zero_shot, recall_zero_shot, f1_zero_shot = calculate_metrics(true_labels, predicted_labels_zero_shot)\n",
        "print(f\"Zero-shot Accuracy: {accuracy_zero_shot:.4f}\")\n",
        "print(f\"Zero-shot Precision: {precision_zero_shot:.4f}\")\n",
        "print(f\"Zero-shot Recall: {recall_zero_shot:.4f}\")\n",
        "print(f\"Zero-shot F1 Score: {f1_zero_shot:.4f}\")\n",
        "\n",
        "# Calculate and print metrics for Fine-tuned model\n",
        "accuracy_fine_tuned, precision_fine_tuned, recall_fine_tuned, f1_fine_tuned = calculate_metrics(true_labels, predicted_labels_fine_tuned)\n",
        "print(f\"Fine-tuned Accuracy: {accuracy_fine_tuned:.4f}\")\n",
        "print(f\"Fine-tuned Precision: {precision_fine_tuned:.4f}\")\n",
        "print(f\"Fine-tuned Recall: {recall_fine_tuned:.4f}\")\n",
        "print(f\"Fine-tuned F1 Score: {f1_fine_tuned:.4f}\")\n"
      ],
      "metadata": {
        "colab": {
          "base_uri": "https://localhost:8080/",
          "height": 1000
        },
        "id": "srSW4SsmOEqh",
        "outputId": "6814422a-5d95-473a-b2f0-b11b4743dc5e"
      },
      "execution_count": null,
      "outputs": [
        {
          "output_type": "stream",
          "name": "stdout",
          "text": [
            "Input: hi team, please provide ship date for dd06786878. thanks .\n",
            "Actual Intent: OrderStatus\n",
            "Predicted Intent (Zero-shot): OrderStatus\n",
            "Predicted Intent (Fine-tuned): OrderStatus\n",
            "--------------------------------------------------\n",
            "Input: hi, may i ask for the leadtime of this item lc6786878\n",
            "Actual Intent: PriceAndAvailability\n",
            "Predicted Intent (Zero-shot): PriceAndAvailability\n",
            "Predicted Intent (Fine-tuned): PriceAndAvailability\n",
            "--------------------------------------------------\n",
            "Input: sir/mam, good day ! request for availability ats12y89a\n",
            "Actual Intent: PriceAndAvailability\n",
            "Predicted Intent (Zero-shot): PriceAndAvailability\n",
            "Predicted Intent (Fine-tuned): PriceAndAvailability\n",
            "--------------------------------------------------\n",
            "Input: good day, i would like to inquire what can we offer for f1426uest2m?\n",
            "Actual Intent: Product Replacement\n",
            "Predicted Intent (Zero-shot): CatalogSelection\n",
            "Predicted Intent (Fine-tuned): CatalogSelection\n",
            "--------------------------------------------------\n",
            "Input: good morning. please provide us eta under p.o 22223 for lv432555 lv4298888 thank you\n",
            "Actual Intent: OrderStatus\n",
            "Predicted Intent (Zero-shot): OrderStatus\n",
            "Predicted Intent (Fine-tuned): OrderStatus\n",
            "--------------------------------------------------\n",
            "Input: good afternoon. i would like to ask if you have this item: nsys3d10630p\n",
            "Actual Intent: CatalogSelection\n",
            "Predicted Intent (Zero-shot): CatalogSelection\n",
            "Predicted Intent (Fine-tuned): Product Replacement\n",
            "--------------------------------------------------\n",
            "Input: good morning. please provide us eta under p.o 676767 item code blrc6786787. thank you\n",
            "Actual Intent: OrderStatus\n",
            "Predicted Intent (Zero-shot): OrderStatus\n",
            "Predicted Intent (Fine-tuned): OrderStatus\n",
            "--------------------------------------------------\n",
            "Input: good day dl1cj0241 may i know the leadtime and vatex price for this product\n",
            "Actual Intent: Product Replacement\n",
            "Predicted Intent (Zero-shot): PriceAndAvailability\n",
            "Predicted Intent (Fine-tuned): PriceAndAvailability\n",
            "--------------------------------------------------\n",
            "Input: hello, can you please help me with the status of this order? order # 056757567567/ po 3334434, part s33897\n",
            "Actual Intent: OrderStatus\n",
            "Predicted Intent (Zero-shot): OrderStatus\n",
            "Predicted Intent (Fine-tuned): OrderStatus\n",
            "--------------------------------------------------\n"
          ]
        },
        {
          "output_type": "stream",
          "name": "stderr",
          "text": [
            "ERROR:tornado.access:503 POST /v1beta/tunedModels/geminipredictionmodel-hzt5pchhcwk4:generateContent?%24alt=json%3Benum-encoding%3Dint (127.0.0.1) 1283.77ms\n"
          ]
        },
        {
          "output_type": "stream",
          "name": "stdout",
          "text": [
            "Input: hello ma'am/sir, i would like to ask po for the mpg of this item: a12678asjs41-- thank you!\n",
            "Actual Intent: PriceAndAvailability\n",
            "Predicted Intent (Zero-shot): PriceAndAvailability\n",
            "Predicted Intent (Fine-tuned): PriceAndAvailability\n",
            "--------------------------------------------------\n",
            "Error during fine-tuned prediction: (\"Invalid operation: The `response.text` quick accessor requires the response to contain a valid `Part`, but none were returned. The candidate's [finish_reason](https://ai.google.dev/api/generate-content#finishreason) is 3. The candidate's safety_ratings are: [category: HARM_CATEGORY_SEXUALLY_EXPLICIT\\nprobability: HIGH\\n, category: HARM_CATEGORY_HATE_SPEECH\\nprobability: NEGLIGIBLE\\n, category: HARM_CATEGORY_HARASSMENT\\nprobability: NEGLIGIBLE\\n, category: HARM_CATEGORY_DANGEROUS_CONTENT\\nprobability: NEGLIGIBLE\\n].\", [category: HARM_CATEGORY_SEXUALLY_EXPLICIT\n",
            "probability: HIGH\n",
            ", category: HARM_CATEGORY_HATE_SPEECH\n",
            "probability: NEGLIGIBLE\n",
            ", category: HARM_CATEGORY_HARASSMENT\n",
            "probability: NEGLIGIBLE\n",
            ", category: HARM_CATEGORY_DANGEROUS_CONTENT\n",
            "probability: NEGLIGIBLE\n",
            "])\n",
            "Input: need a gfci outlet\n",
            "Actual Intent: CatalogSelection\n",
            "Predicted Intent (Zero-shot): CatalogSelection\n",
            "Predicted Intent (Fine-tuned): Error\n",
            "--------------------------------------------------\n",
            "Input: status of delivery under po.#1234555 5pcs lc1-k342m7\n",
            "Actual Intent: OrderStatus\n",
            "Predicted Intent (Zero-shot): OrderStatus\n",
            "Predicted Intent (Fine-tuned): OrderStatus\n",
            "--------------------------------------------------\n",
            "Input: good morning, ask lang po, meron po bah atyung dc mini breaker 1000vdc?\n",
            "Actual Intent: CatalogSelection\n",
            "Predicted Intent (Zero-shot): PriceAndAvailability\n",
            "Predicted Intent (Fine-tuned): CatalogSelection\n",
            "--------------------------------------------------\n"
          ]
        },
        {
          "output_type": "stream",
          "name": "stderr",
          "text": [
            "ERROR:tornado.access:503 POST /v1beta/models/gemini-1.5-flash:generateContent?%24alt=json%3Benum-encoding%3Dint (127.0.0.1) 353.37ms\n"
          ]
        },
        {
          "output_type": "stream",
          "name": "stdout",
          "text": [
            "Input: tm2dra16rt alternate\n",
            "Actual Intent: Product Replacement\n",
            "Predicted Intent (Zero-shot): CatalogSelection\n",
            "Predicted Intent (Fine-tuned): Product Replacement\n",
            "--------------------------------------------------\n",
            "Input: square d load center cat. no. qoc30mw225, h13e8951 wants to know what breaker will fit it\n",
            "Actual Intent: CatalogSelection\n",
            "Predicted Intent (Zero-shot): CatalogSelection\n",
            "Predicted Intent (Fine-tuned): CatalogSelection\n",
            "--------------------------------------------------\n",
            "Input: what's the suitable shunt trip accessories and motor charger for a 33472 breaker @230vac\n",
            "Actual Intent: CatalogSelection\n",
            "Predicted Intent (Zero-shot): CatalogSelection\n",
            "Predicted Intent (Fine-tuned): CatalogSelection\n",
            "--------------------------------------------------\n",
            "Input: hi, may i ask what is the updated stocks po 123456  in your warehouse? thank you\n",
            "Actual Intent: PriceAndAvailability\n",
            "Predicted Intent (Zero-shot): PriceAndAvailability\n",
            "Predicted Intent (Fine-tuned): OrderStatus\n",
            "--------------------------------------------------\n",
            "Input: request for availability & prices . 100pcs - 923q6783 , 100pcs - 9001kqw6713\n",
            "Actual Intent: PriceAndAvailability\n",
            "Predicted Intent (Zero-shot): PriceAndAvailability\n",
            "Predicted Intent (Fine-tuned): PriceAndAvailability\n",
            "--------------------------------------------------\n",
            "Input: delivery date for c25n3tm000 under po2234234f567\n",
            "Actual Intent: OrderStatus\n",
            "Predicted Intent (Zero-shot): OrderStatus\n",
            "Predicted Intent (Fine-tuned): OrderStatus\n",
            "--------------------------------------------------\n",
            "Input: looking for rcbo  40at, 3p+n, 380v, 10ma schneider mccb 30at, 3p+n, 380v, 10ma schneider mccb\n",
            "Actual Intent: CatalogSelection\n",
            "Predicted Intent (Zero-shot): CatalogSelection\n",
            "Predicted Intent (Fine-tuned): CatalogSelection\n",
            "--------------------------------------------------\n"
          ]
        },
        {
          "output_type": "stream",
          "name": "stderr",
          "text": [
            "ERROR:tornado.access:503 POST /v1beta/tunedModels/geminipredictionmodel-hzt5pchhcwk4:generateContent?%24alt=json%3Benum-encoding%3Dint (127.0.0.1) 353.79ms\n"
          ]
        },
        {
          "output_type": "stream",
          "name": "stdout",
          "text": [
            "Input: hi team, could you confirm what the response is for cr-1234567? kindly confirm with plant if there is anyway we can stretch earlier and ship by 05/01 at least qty 1 atv2323232323 (pos2) and qty 1 atv232323245(pos3). thanks\n",
            "Actual Intent: OrderStatus\n",
            "Predicted Intent (Zero-shot): OrderStatus\n",
            "Predicted Intent (Fine-tuned): OrderStatus\n",
            "--------------------------------------------------\n",
            "Input: good day maam/sir, can i ask what to offer for: 16a dc mcb 2p, also do we have a dc surge protection devices na locally offered?\n",
            "Actual Intent: CatalogSelection\n",
            "Predicted Intent (Zero-shot): CatalogSelection\n",
            "Predicted Intent (Fine-tuned): CatalogSelection\n",
            "--------------------------------------------------\n",
            "Input: do you have ats 100ampers?\n",
            "Actual Intent: CatalogSelection\n",
            "Predicted Intent (Zero-shot): PriceAndAvailability\n",
            "Predicted Intent (Fine-tuned): CatalogSelection\n",
            "--------------------------------------------------\n",
            "Input: is rbc43 the replacement battery for sua2200rm2u\n",
            "Actual Intent: CatalogSelection\n",
            "Predicted Intent (Zero-shot): ProductReplacement\n",
            "Predicted Intent (Fine-tuned): Product Replacement\n",
            "--------------------------------------------------\n",
            "Input: good day, please quote the item sh31001p02f2000 for our reference. thank you\n",
            "Actual Intent: CatalogSelection\n",
            "Predicted Intent (Zero-shot): PriceAndAvailability\n",
            "Predicted Intent (Fine-tuned): PriceAndAvailability\n",
            "--------------------------------------------------\n",
            "Input: 47353 47363 hi good day! may we ask for the lead time of the above pn. thanks\n",
            "Actual Intent: PriceAndAvailability\n",
            "Predicted Intent (Zero-shot): PriceAndAvailability\n",
            "Predicted Intent (Fine-tuned): PriceAndAvailability\n",
            "--------------------------------------------------\n",
            "Input: hi team, please provide ship date for the ff: part numbers po mk67867867\n",
            "Actual Intent: OrderStatus\n",
            "Predicted Intent (Zero-shot): OrderStatus\n",
            "Predicted Intent (Fine-tuned): OrderStatus\n",
            "--------------------------------------------------\n",
            "Input: give me the replacement for this item em6436\n",
            "Actual Intent: Product Replacement\n",
            "Predicted Intent (Zero-shot): ProductReplacement\n",
            "Predicted Intent (Fine-tuned): Product Replacement\n",
            "--------------------------------------------------\n"
          ]
        },
        {
          "output_type": "stream",
          "name": "stderr",
          "text": [
            "ERROR:tornado.access:503 POST /v1beta/models/gemini-1.5-flash:generateContent?%24alt=json%3Benum-encoding%3Dint (127.0.0.1) 355.07ms\n"
          ]
        },
        {
          "output_type": "stream",
          "name": "stdout",
          "text": [
            "Input: lead time of acb nw\n",
            "Actual Intent: PriceAndAvailability\n",
            "Predicted Intent (Zero-shot): PriceAndAvailability\n",
            "Predicted Intent (Fine-tuned): PriceAndAvailability\n",
            "--------------------------------------------------\n",
            "Input: regarding po-111111-89\n",
            "Actual Intent: OrderStatus\n",
            "Predicted Intent (Zero-shot): OrderStatus\n",
            "Predicted Intent (Fine-tuned): OrderStatus\n",
            "--------------------------------------------------\n",
            "Input: hi, may i ask of this item is available in your warehouse, lv16278ea. thank you\n",
            "Actual Intent: PriceAndAvailability\n",
            "Predicted Intent (Zero-shot): PriceAndAvailability\n",
            "Predicted Intent (Fine-tuned): Product Replacement\n",
            "--------------------------------------------------\n",
            "Input: good afternoon. please provide eta under p.o 000000000004 item code metsect5cs23d metsect8912bh. thank you\n",
            "Actual Intent: OrderStatus\n",
            "Predicted Intent (Zero-shot): OrderStatus\n",
            "Predicted Intent (Fine-tuned): OrderStatus\n",
            "--------------------------------------------------\n",
            "Zero-shot Accuracy: 0.7500\n",
            "Zero-shot Precision: 0.7135\n",
            "Zero-shot Recall: 0.7500\n",
            "Zero-shot F1 Score: 0.7208\n",
            "Fine-tuned Accuracy: 0.7500\n",
            "Fine-tuned Precision: 0.7894\n",
            "Fine-tuned Recall: 0.7500\n",
            "Fine-tuned F1 Score: 0.7613\n"
          ]
        },
        {
          "output_type": "stream",
          "name": "stderr",
          "text": [
            "/usr/local/lib/python3.10/dist-packages/sklearn/metrics/_classification.py:1531: UndefinedMetricWarning: Precision is ill-defined and being set to 0.0 in labels with no predicted samples. Use `zero_division` parameter to control this behavior.\n",
            "  _warn_prf(average, modifier, f\"{metric.capitalize()} is\", len(result))\n",
            "/usr/local/lib/python3.10/dist-packages/sklearn/metrics/_classification.py:1531: UndefinedMetricWarning: Recall is ill-defined and being set to 0.0 in labels with no true samples. Use `zero_division` parameter to control this behavior.\n",
            "  _warn_prf(average, modifier, f\"{metric.capitalize()} is\", len(result))\n",
            "/usr/local/lib/python3.10/dist-packages/sklearn/metrics/_classification.py:1531: UndefinedMetricWarning: Recall is ill-defined and being set to 0.0 in labels with no true samples. Use `zero_division` parameter to control this behavior.\n",
            "  _warn_prf(average, modifier, f\"{metric.capitalize()} is\", len(result))\n"
          ]
        }
      ]
    }
  ]
}